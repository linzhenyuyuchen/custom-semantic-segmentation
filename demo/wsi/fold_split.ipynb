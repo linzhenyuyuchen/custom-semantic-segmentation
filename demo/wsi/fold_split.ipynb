{
 "cells": [
  {
   "cell_type": "code",
   "execution_count": 1,
   "metadata": {},
   "outputs": [],
   "source": [
    "import os\n",
    "import joblib\n",
    "import pickle\n",
    "import random\n",
    "from sklearn.model_selection import train_test_split\n",
    "from sklearn.model_selection import StratifiedKFold"
   ]
  },
  {
   "cell_type": "code",
   "execution_count": 2,
   "metadata": {},
   "outputs": [],
   "source": [
    "def convert(train):\n",
    "    path=[]\n",
    "    for i in range(len(train)):\n",
    "        path.append(train[i].replace(\"_img_\",\"_mask_\").replace(\"patch\",\"patch_oh\")[:-3]+\"pkl\")\n",
    "    return path"
   ]
  },
  {
   "cell_type": "code",
   "execution_count": 3,
   "metadata": {},
   "outputs": [],
   "source": [
    "\n",
    "def splitdataset(fold):\n",
    "    train_dirs = []\n",
    "    valid_dirs = []\n",
    "    test_dirs = []\n",
    "    img_path = '/data3/digestpath_img_patch'\n",
    "    mask_path = '/data3/digestpath_mask_patch'\n",
    "    dictionary=joblib.load(\"/home/houwentai/env/pyhwt/digestpath/dictionary.pkl\")\n",
    "    wsi = []\n",
    "    wsi_label = []\n",
    "    for level in os.listdir(img_path):\n",
    "        for image in os.listdir(os.path.join(img_path,level)):\n",
    "            wsi.append(os.path.join(img_path,level,image)) \n",
    "            if level==\"normal\":\n",
    "                wsi_label.append(0)\n",
    "            elif level ==\"low level\":\n",
    "                wsi_label.append(1)\n",
    "            else:\n",
    "                wsi_label.append(2)\n",
    "    kf = StratifiedKFold(n_splits=fold,shuffle=True,random_state=0)\n",
    "    train_dataset=[]\n",
    "    val_dataset=[]\n",
    "    test_dataset=[]\n",
    "    num=1\n",
    "    for train_index , test_index in kf.split(wsi,wsi_label):\n",
    "        print(\"Fold\"+str(num))\n",
    "        new_train_index, val_index , _ , _ = train_test_split(train_index,train_index,test_size=0.2,random_state=0)\n",
    "        train_img_patch_fold=[]\n",
    "        val_img_patch_fold=[]\n",
    "        test_img_patch_fold=[]\n",
    "        train_label_patch_fold=[]\n",
    "        val_label_patch_fold=[]\n",
    "        test_label_patch_fold=[]\n",
    "        filter_train_patch_name=[]\n",
    "        train_gjb=[]\n",
    "        train_djb=[]\n",
    "        train_normal=[]\n",
    "        for index in list(new_train_index):\n",
    "            for patch_name in os.listdir(os.path.join(wsi[index])):\n",
    "                if dictionary[os.path.join(wsi[index],patch_name)] != 0:\n",
    "                    train_dirs.append(wsi[index])\n",
    "                break\n",
    "            # print(index)\n",
    "            for patch_name in os.listdir(os.path.join(wsi[index])):\n",
    "                if dictionary[os.path.join(wsi[index],patch_name)] == 0:\n",
    "                    train_normal.append(os.path.join(wsi[index],patch_name))\n",
    "                elif dictionary[os.path.join(wsi[index],patch_name)] == 1:\n",
    "                    train_djb.append(os.path.join(wsi[index],patch_name))\n",
    "                else:\n",
    "                    train_gjb.append(os.path.join(wsi[index],patch_name))\n",
    "        train_normal=random.sample(train_normal, max(len(train_gjb),len(train_djb)))\n",
    "#         train_img_patch_fold=train_normal+train_djb+train_gjb\n",
    "#         train_label_patch_fold=convert(train_normal)+convert(train_djb)+convert(train_gjb)\n",
    "        train_img_patch_fold=train_djb+train_gjb\n",
    "        train_label_patch_fold=convert(train_djb)+convert(train_gjb)\n",
    "        print(\"Fold\"+str(num)+\"训练集统计：\")\n",
    "        print(\"正常图片数：\"+str(len(train_normal)))\n",
    "        print(\"低级别图片数：\"+str(len(train_djb)))\n",
    "        print(\"高级别图片数：\"+str(len(train_gjb)))\n",
    "        val_gjb=[]\n",
    "        val_djb=[]\n",
    "        val_normal=[]\n",
    "        for index in list(val_index):\n",
    "            valid_dirs.append(wsi[index])\n",
    "            # print(index)\n",
    "            for patch_name in os.listdir(os.path.join(wsi[index])):\n",
    "                if dictionary[os.path.join(wsi[index],patch_name)] == 0:\n",
    "                    val_normal.append(os.path.join(wsi[index],patch_name))\n",
    "                elif dictionary[os.path.join(wsi[index],patch_name)] == 1:\n",
    "                    val_djb.append(os.path.join(wsi[index],patch_name))\n",
    "                else:\n",
    "                    val_gjb.append(os.path.join(wsi[index],patch_name))\n",
    "        val_normal=random.sample(val_normal, max(len(val_gjb),len(val_djb)))\n",
    "#         val_img_patch_fold=val_normal+val_djb+val_gjb\n",
    "#         val_label_patch_fold=convert(val_normal)+convert(val_djb)+convert(val_gjb)\n",
    "        val_img_patch_fold=val_djb+val_gjb\n",
    "        val_label_patch_fold=convert(val_djb)+convert(val_gjb)\n",
    "        print(\"Fold\"+str(num)+\"验证集统计：\")\n",
    "        print(\"正常图片数：\"+str(len(val_normal)))\n",
    "        print(\"低级别图片数：\"+str(len(val_djb)))\n",
    "        print(\"高级别图片数：\"+str(len(val_gjb)))\n",
    "\n",
    "        test_gjb=0\n",
    "        test_djb=0\n",
    "        test_normal=0\n",
    "        for index in list(test_index):\n",
    "            print(wsi[index])\n",
    "            test_dirs.append(wsi[index])\n",
    "            for patch_name in os.listdir(os.path.join(wsi[index])):\n",
    "                if dictionary[os.path.join(wsi[index],patch_name)] == 0:\n",
    "                    test_normal+=1\n",
    "                elif dictionary[os.path.join(wsi[index],patch_name)] == 1:\n",
    "                    test_djb+=1\n",
    "                else:\n",
    "                    test_gjb+=1\n",
    "                test_img_patch_fold.append(os.path.join(wsi[index],patch_name))\n",
    "        test_label_patch_fold=convert(test_img_patch_fold)\n",
    "        print(\"Fold\"+str(num)+\"测试集统计：\")\n",
    "        print(\"正常图片数：\"+str(test_normal))\n",
    "        print(\"低级别图片数：\"+str(test_djb))\n",
    "        print(\"高级别图片数：\"+str(test_gjb))\n",
    "        num+=1\n",
    "        print(\"-------------------------------------\")\n",
    "        break\n",
    "    return train_dirs, valid_dirs, test_dirs"
   ]
  },
  {
   "cell_type": "code",
   "execution_count": 4,
   "metadata": {},
   "outputs": [
    {
     "name": "stdout",
     "output_type": "stream",
     "text": [
      "Fold1\n",
      "Fold1训练集统计：\n",
      "正常图片数：1372\n",
      "低级别图片数：1372\n",
      "高级别图片数：1119\n",
      "Fold1验证集统计：\n",
      "正常图片数：162\n",
      "低级别图片数：162\n",
      "高级别图片数：88\n",
      "/data3/digestpath_img_patch/normal/2019-06-04 16_57_19.png\n",
      "/data3/digestpath_img_patch/normal/2019-06-11 01_00_50.png\n",
      "/data3/digestpath_img_patch/normal/2019-06-04 17_29_52.png\n",
      "/data3/digestpath_img_patch/normal/2019-06-11 00_48_57.png\n",
      "/data3/digestpath_img_patch/normal/2019-07804-1-1-1_2019-05-29 05_31_41.png\n",
      "/data3/digestpath_img_patch/normal/2019-05147-1-1-1_2019-05-29 11_03_32.png\n",
      "/data3/digestpath_img_patch/normal/2019-06-11 00_55_09.png\n",
      "/data3/digestpath_img_patch/normal/2019-06-11 09_15_18.png\n",
      "/data3/digestpath_img_patch/low level/1904076001_2019-10-28 10_25_20.png\n",
      "/data3/digestpath_img_patch/low level/1905287001_2019-10-29 15_46_13.png\n",
      "/data3/digestpath_img_patch/low level/1904100004_2019-10-28 11_31_27.png\n",
      "/data3/digestpath_img_patch/low level/1905356002_2019-10-29 17_08_39.png\n",
      "/data3/digestpath_img_patch/low level/1904076002_2019-10-28 10_30_08.png\n",
      "/data3/digestpath_img_patch/high level/2018_75775_1-1_2019-02-21 00_58_00.png\n",
      "/data3/digestpath_img_patch/high level/18-01592A_2019-05-07 21_59_18.png\n",
      "/data3/digestpath_img_patch/high level/2018_74432_1-1_2019-02-21 00_38_07.png\n",
      "/data3/digestpath_img_patch/high level/2018_78341_1-1_2019-02-21 01_08_09_2.png\n",
      "/data3/digestpath_img_patch/high level/2018_78341_1-1_2019-02-21 01_08_09_1.png\n",
      "Fold1测试集统计：\n",
      "正常图片数：1660\n",
      "低级别图片数：156\n",
      "高级别图片数：412\n",
      "-------------------------------------\n"
     ]
    }
   ],
   "source": [
    "train_dirs, valid_dirs, test_dirs = splitdataset(4)"
   ]
  },
  {
   "cell_type": "code",
   "execution_count": 5,
   "metadata": {},
   "outputs": [],
   "source": [
    "data = {\n",
    "    \"train_dirs\":train_dirs,\n",
    "    \"valid_dirs\":valid_dirs,\n",
    "    \"test_dirs\":test_dirs,\n",
    "}\n",
    "with open(\"/data1/lzy2020/checkpoint/fold1.pkl\", \"wb\") as f:\n",
    "    pickle.dump(data, f)"
   ]
  },
  {
   "cell_type": "code",
   "execution_count": 6,
   "metadata": {},
   "outputs": [
    {
     "name": "stdout",
     "output_type": "stream",
     "text": [
      "12 11 18\n"
     ]
    }
   ],
   "source": [
    "print(len(train_dirs), len(valid_dirs), len(test_dirs))"
   ]
  },
  {
   "cell_type": "code",
   "execution_count": 7,
   "metadata": {},
   "outputs": [
    {
     "data": {
      "text/plain": [
       "['/data3/digestpath_img_patch/low level/1904100003_2019-10-28 11_27_21.png',\n",
       " '/data3/digestpath_img_patch/low level/1905157001_2019-10-28 18_22_53.png',\n",
       " '/data3/digestpath_img_patch/high level/2018_78758_1-1_2019-02-21 01_17_57.png',\n",
       " '/data3/digestpath_img_patch/high level/18_00991B_2019-05-07 21_27_54.png',\n",
       " '/data3/digestpath_img_patch/low level/1904100002_2019-10-28 11_21_41.png',\n",
       " '/data3/digestpath_img_patch/high level/18-01913B_2019-05-07 22_15_41.png',\n",
       " '/data3/digestpath_img_patch/low level/1904066003_2019-10-29 13_17_07.png',\n",
       " '/data3/digestpath_img_patch/high level/18-01454B_2019-05-07 21_53_08.png',\n",
       " '/data3/digestpath_img_patch/low level/1904099001_2019-10-28 11_14_27.png',\n",
       " '/data3/digestpath_img_patch/low level/1905307002_2019-10-29 16_38_40.png',\n",
       " '/data3/digestpath_img_patch/high level/2018_72821_1-1_2019-02-21 00_06_13.png',\n",
       " '/data3/digestpath_img_patch/high level/18-01454A_2019-05-07 21_47_50.png']"
      ]
     },
     "execution_count": 7,
     "metadata": {},
     "output_type": "execute_result"
    }
   ],
   "source": [
    "train_dirs"
   ]
  },
  {
   "cell_type": "code",
   "execution_count": null,
   "metadata": {},
   "outputs": [],
   "source": []
  }
 ],
 "metadata": {
  "kernelspec": {
   "display_name": "Python 3",
   "language": "python",
   "name": "python3"
  },
  "language_info": {
   "codemirror_mode": {
    "name": "ipython",
    "version": 3
   },
   "file_extension": ".py",
   "mimetype": "text/x-python",
   "name": "python",
   "nbconvert_exporter": "python",
   "pygments_lexer": "ipython3",
   "version": "3.6.9"
  }
 },
 "nbformat": 4,
 "nbformat_minor": 2
}
