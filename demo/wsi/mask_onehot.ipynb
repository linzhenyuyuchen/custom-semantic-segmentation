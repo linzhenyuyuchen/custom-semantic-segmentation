{
 "cells": [
  {
   "cell_type": "code",
   "execution_count": 1,
   "metadata": {},
   "outputs": [],
   "source": [
    "from PIL import Image\n",
    "import numpy as np\n",
    "import os "
   ]
  },
  {
   "cell_type": "code",
   "execution_count": 7,
   "metadata": {},
   "outputs": [],
   "source": [
    "rootDir = \"/data3/digestpath_mask_patch/\"\n",
    "typeNames = [\"normal\", \"low level\", \"high level\"]\n",
    "for i in range(len(typeNames)):\n",
    "    subDir = os.path.join(rootDir, typeNames[i])\n",
    "    for subjectId in os.listdir(subDir):\n",
    "        subjectDir = os.path.join(subDir, subjectId)\n",
    "        subjectDir2 = subjectDir.replace(\"digestpath_mask_patch/\",\"digestpath_mask_patch_npy_01/\")\n",
    "        if not os.path.exists(subjectDir2):\n",
    "            os.makedirs(subjectDir2)\n",
    "        for fileName in os.listdir(subjectDir):\n",
    "            filePath = os.path.join(subjectDir, fileName)\n",
    "            file = np.asarray(Image.open(filePath))\n",
    "            file = file[:, :, 0]\n",
    "            file = (file/255).astype(\"uint8\")\n",
    "            newFilePath = os.path.join(subjectDir, fileName.replace(\".png\",\".npy\")).replace(\"digestpath_mask_patch/\",\"digestpath_mask_patch_npy_01/\")\n",
    "            np.save(newFilePath, file)\n",
    "            "
   ]
  },
  {
   "cell_type": "code",
   "execution_count": null,
   "metadata": {},
   "outputs": [],
   "source": []
  }
 ],
 "metadata": {
  "kernelspec": {
   "display_name": "Python 3",
   "language": "python",
   "name": "python3"
  },
  "language_info": {
   "codemirror_mode": {
    "name": "ipython",
    "version": 3
   },
   "file_extension": ".py",
   "mimetype": "text/x-python",
   "name": "python",
   "nbconvert_exporter": "python",
   "pygments_lexer": "ipython3",
   "version": "3.6.9"
  }
 },
 "nbformat": 4,
 "nbformat_minor": 2
}
